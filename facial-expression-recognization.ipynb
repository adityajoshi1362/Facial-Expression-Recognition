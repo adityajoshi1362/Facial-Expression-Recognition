{
 "cells": [
  {
   "cell_type": "code",
   "execution_count": 2,
   "metadata": {},
   "outputs": [],
   "source": [
    "import numpy as np\n",
    "import pandas as pd\n",
    "import matplotlib.pyplot as plt\n",
    "\n",
    "from tensorflow.keras.preprocessing.image import ImageDataGenerator\n",
    "from keras.models import Sequential\n",
    "from keras.layers import Conv2D, MaxPooling2D, Flatten, Dense, Dropout\n",
    "from keras.optimizers import Adam\n",
    "from sklearn.metrics import classification_report, confusion_matrix,auc\n",
    "import cv2"
   ]
  },
  {
   "cell_type": "code",
   "execution_count": 3,
   "metadata": {},
   "outputs": [
    {
     "data": {
      "text/html": [
       "<div>\n",
       "<style scoped>\n",
       "    .dataframe tbody tr th:only-of-type {\n",
       "        vertical-align: middle;\n",
       "    }\n",
       "\n",
       "    .dataframe tbody tr th {\n",
       "        vertical-align: top;\n",
       "    }\n",
       "\n",
       "    .dataframe thead th {\n",
       "        text-align: right;\n",
       "    }\n",
       "</style>\n",
       "<table border=\"1\" class=\"dataframe\">\n",
       "  <thead>\n",
       "    <tr style=\"text-align: right;\">\n",
       "      <th></th>\n",
       "      <th>emotion</th>\n",
       "      <th>pixels</th>\n",
       "      <th>Usage</th>\n",
       "    </tr>\n",
       "  </thead>\n",
       "  <tbody>\n",
       "    <tr>\n",
       "      <th>35882</th>\n",
       "      <td>6</td>\n",
       "      <td>50 36 17 22 23 29 33 39 34 37 37 37 39 43 48 5...</td>\n",
       "      <td>PrivateTest</td>\n",
       "    </tr>\n",
       "    <tr>\n",
       "      <th>35883</th>\n",
       "      <td>3</td>\n",
       "      <td>178 174 172 173 181 188 191 194 196 199 200 20...</td>\n",
       "      <td>PrivateTest</td>\n",
       "    </tr>\n",
       "    <tr>\n",
       "      <th>35884</th>\n",
       "      <td>0</td>\n",
       "      <td>17 17 16 23 28 22 19 17 25 26 20 24 31 19 27 9...</td>\n",
       "      <td>PrivateTest</td>\n",
       "    </tr>\n",
       "    <tr>\n",
       "      <th>35885</th>\n",
       "      <td>3</td>\n",
       "      <td>30 28 28 29 31 30 42 68 79 81 77 67 67 71 63 6...</td>\n",
       "      <td>PrivateTest</td>\n",
       "    </tr>\n",
       "    <tr>\n",
       "      <th>35886</th>\n",
       "      <td>2</td>\n",
       "      <td>19 13 14 12 13 16 21 33 50 57 71 84 97 108 122...</td>\n",
       "      <td>PrivateTest</td>\n",
       "    </tr>\n",
       "  </tbody>\n",
       "</table>\n",
       "</div>"
      ],
      "text/plain": [
       "       emotion                                             pixels        Usage\n",
       "35882        6  50 36 17 22 23 29 33 39 34 37 37 37 39 43 48 5...  PrivateTest\n",
       "35883        3  178 174 172 173 181 188 191 194 196 199 200 20...  PrivateTest\n",
       "35884        0  17 17 16 23 28 22 19 17 25 26 20 24 31 19 27 9...  PrivateTest\n",
       "35885        3  30 28 28 29 31 30 42 68 79 81 77 67 67 71 63 6...  PrivateTest\n",
       "35886        2  19 13 14 12 13 16 21 33 50 57 71 84 97 108 122...  PrivateTest"
      ]
     },
     "execution_count": 3,
     "metadata": {},
     "output_type": "execute_result"
    }
   ],
   "source": [
    "data=pd.read_csv(\"fer2013.csv\")\n",
    "\n",
    "data.tail()"
   ]
  },
  {
   "cell_type": "code",
   "execution_count": 4,
   "metadata": {},
   "outputs": [
    {
     "name": "stdout",
     "output_type": "stream",
     "text": [
      "<class 'pandas.core.frame.DataFrame'>\n",
      "RangeIndex: 35887 entries, 0 to 35886\n",
      "Data columns (total 3 columns):\n",
      " #   Column   Non-Null Count  Dtype \n",
      "---  ------   --------------  ----- \n",
      " 0   emotion  35887 non-null  int64 \n",
      " 1   pixels   35887 non-null  object\n",
      " 2   Usage    35887 non-null  object\n",
      "dtypes: int64(1), object(2)\n",
      "memory usage: 841.2+ KB\n"
     ]
    }
   ],
   "source": [
    "data.info()"
   ]
  },
  {
   "cell_type": "code",
   "execution_count": 5,
   "metadata": {},
   "outputs": [],
   "source": [
    "data=data.drop('Usage',axis=1)"
   ]
  },
  {
   "cell_type": "code",
   "execution_count": 6,
   "metadata": {},
   "outputs": [
    {
     "data": {
      "text/plain": [
       "(35887, 2)"
      ]
     },
     "execution_count": 6,
     "metadata": {},
     "output_type": "execute_result"
    }
   ],
   "source": [
    "data.shape"
   ]
  },
  {
   "cell_type": "code",
   "execution_count": 7,
   "metadata": {},
   "outputs": [
    {
     "data": {
      "text/plain": [
       "3    8989\n",
       "6    6198\n",
       "4    6077\n",
       "2    5121\n",
       "0    4953\n",
       "5    4002\n",
       "1     547\n",
       "Name: emotion, dtype: int64"
      ]
     },
     "execution_count": 7,
     "metadata": {},
     "output_type": "execute_result"
    }
   ],
   "source": [
    "data[\"emotion\"].value_counts()"
   ]
  },
  {
   "cell_type": "code",
   "execution_count": 8,
   "metadata": {},
   "outputs": [
    {
     "data": {
      "text/html": [
       "<div>\n",
       "<style scoped>\n",
       "    .dataframe tbody tr th:only-of-type {\n",
       "        vertical-align: middle;\n",
       "    }\n",
       "\n",
       "    .dataframe tbody tr th {\n",
       "        vertical-align: top;\n",
       "    }\n",
       "\n",
       "    .dataframe thead th {\n",
       "        text-align: right;\n",
       "    }\n",
       "</style>\n",
       "<table border=\"1\" class=\"dataframe\">\n",
       "  <thead>\n",
       "    <tr style=\"text-align: right;\">\n",
       "      <th></th>\n",
       "      <th>emotion</th>\n",
       "      <th>pixels</th>\n",
       "    </tr>\n",
       "  </thead>\n",
       "  <tbody>\n",
       "    <tr>\n",
       "      <th>0</th>\n",
       "      <td>False</td>\n",
       "      <td>False</td>\n",
       "    </tr>\n",
       "    <tr>\n",
       "      <th>1</th>\n",
       "      <td>False</td>\n",
       "      <td>False</td>\n",
       "    </tr>\n",
       "    <tr>\n",
       "      <th>2</th>\n",
       "      <td>False</td>\n",
       "      <td>False</td>\n",
       "    </tr>\n",
       "    <tr>\n",
       "      <th>3</th>\n",
       "      <td>False</td>\n",
       "      <td>False</td>\n",
       "    </tr>\n",
       "    <tr>\n",
       "      <th>4</th>\n",
       "      <td>False</td>\n",
       "      <td>False</td>\n",
       "    </tr>\n",
       "    <tr>\n",
       "      <th>...</th>\n",
       "      <td>...</td>\n",
       "      <td>...</td>\n",
       "    </tr>\n",
       "    <tr>\n",
       "      <th>35882</th>\n",
       "      <td>False</td>\n",
       "      <td>False</td>\n",
       "    </tr>\n",
       "    <tr>\n",
       "      <th>35883</th>\n",
       "      <td>False</td>\n",
       "      <td>False</td>\n",
       "    </tr>\n",
       "    <tr>\n",
       "      <th>35884</th>\n",
       "      <td>False</td>\n",
       "      <td>False</td>\n",
       "    </tr>\n",
       "    <tr>\n",
       "      <th>35885</th>\n",
       "      <td>False</td>\n",
       "      <td>False</td>\n",
       "    </tr>\n",
       "    <tr>\n",
       "      <th>35886</th>\n",
       "      <td>False</td>\n",
       "      <td>False</td>\n",
       "    </tr>\n",
       "  </tbody>\n",
       "</table>\n",
       "<p>35887 rows × 2 columns</p>\n",
       "</div>"
      ],
      "text/plain": [
       "       emotion  pixels\n",
       "0        False   False\n",
       "1        False   False\n",
       "2        False   False\n",
       "3        False   False\n",
       "4        False   False\n",
       "...        ...     ...\n",
       "35882    False   False\n",
       "35883    False   False\n",
       "35884    False   False\n",
       "35885    False   False\n",
       "35886    False   False\n",
       "\n",
       "[35887 rows x 2 columns]"
      ]
     },
     "execution_count": 8,
     "metadata": {},
     "output_type": "execute_result"
    }
   ],
   "source": [
    "data.isna()"
   ]
  },
  {
   "cell_type": "code",
   "execution_count": 9,
   "metadata": {},
   "outputs": [],
   "source": [
    "data['pixels'] = data['pixels'].apply(lambda x: x.reshape(48, 48, 1) if isinstance(x, np.ndarray) else np.array(x.split(), dtype='float32').reshape(48, 48, 1))"
   ]
  },
  {
   "cell_type": "code",
   "execution_count": 10,
   "metadata": {},
   "outputs": [],
   "source": [
    "x = np.array([pixels for pixels in data['pixels']])"
   ]
  },
  {
   "cell_type": "code",
   "execution_count": 11,
   "metadata": {},
   "outputs": [
    {
     "data": {
      "text/plain": [
       "dtype('float32')"
      ]
     },
     "execution_count": 11,
     "metadata": {},
     "output_type": "execute_result"
    }
   ],
   "source": [
    "x.dtype"
   ]
  },
  {
   "cell_type": "code",
   "execution_count": 12,
   "metadata": {},
   "outputs": [
    {
     "data": {
      "text/plain": [
       "(35887, 48, 48, 1)"
      ]
     },
     "execution_count": 12,
     "metadata": {},
     "output_type": "execute_result"
    }
   ],
   "source": [
    "x.shape"
   ]
  },
  {
   "cell_type": "code",
   "execution_count": 13,
   "metadata": {},
   "outputs": [],
   "source": [
    "y = data['emotion'].values"
   ]
  },
  {
   "cell_type": "code",
   "execution_count": 14,
   "metadata": {},
   "outputs": [
    {
     "data": {
      "text/plain": [
       "array([0, 0, 2, ..., 0, 3, 2], dtype=int64)"
      ]
     },
     "execution_count": 14,
     "metadata": {},
     "output_type": "execute_result"
    }
   ],
   "source": [
    "y"
   ]
  },
  {
   "cell_type": "code",
   "execution_count": 15,
   "metadata": {},
   "outputs": [],
   "source": [
    "x=x/255.0"
   ]
  },
  {
   "cell_type": "code",
   "execution_count": 16,
   "metadata": {},
   "outputs": [],
   "source": [
    "datagen = ImageDataGenerator(\n",
    "    rotation_range=20,\n",
    "    width_shift_range=0.2,\n",
    "    height_shift_range=0.2,\n",
    "    shear_range=0.2,\n",
    "    zoom_range=0.2,\n",
    "    horizontal_flip=True\n",
    ")\n",
    "\n",
    "datagen.fit(x)\n"
   ]
  },
  {
   "cell_type": "code",
   "execution_count": 23,
   "metadata": {},
   "outputs": [],
   "source": [
    "from tensorflow.keras.models import Sequential\n",
    "from tensorflow.keras.layers import Conv2D, MaxPooling2D, Dropout, Flatten, Dense, BatchNormalization, Activation\n",
    "from tensorflow.keras.optimizers import Adam\n",
    "\n",
    "model = Sequential()\n",
    "\n",
    "# First Convolutional Block\n",
    "model.add(Conv2D(64, (3, 3), padding='same', input_shape=(48, 48, 1)))\n",
    "model.add(BatchNormalization())\n",
    "model.add(Activation('relu'))\n",
    "model.add(MaxPooling2D(pool_size=(2, 2)))\n",
    "model.add(Dropout(0.25))\n",
    "\n",
    "# Second Convolutional Block\n",
    "model.add(Conv2D(128, (3, 3), padding='same'))\n",
    "model.add(BatchNormalization())\n",
    "model.add(Activation('relu'))\n",
    "model.add(MaxPooling2D(pool_size=(2, 2)))\n",
    "model.add(Dropout(0.25))\n",
    "\n",
    "# Third Convolutional Block\n",
    "model.add(Conv2D(256, (3, 3), padding='same'))\n",
    "model.add(BatchNormalization())\n",
    "model.add(Activation('relu'))\n",
    "model.add(MaxPooling2D(pool_size=(2, 2)))\n",
    "model.add(Dropout(0.25))\n",
    "\n",
    "# Fully Connected Layers\n",
    "model.add(Flatten())\n",
    "model.add(Dense(512))\n",
    "model.add(BatchNormalization())\n",
    "model.add(Activation('relu'))\n",
    "model.add(Dropout(0.5))\n",
    "model.add(Dense(7, activation='softmax'))  # 7 output classes\n",
    "\n",
    "\n"
   ]
  },
  {
   "cell_type": "markdown",
   "metadata": {},
   "source": []
  },
  {
   "cell_type": "code",
   "execution_count": 24,
   "metadata": {},
   "outputs": [],
   "source": [
    "from tensorflow.keras.metrics import Precision, Recall, AUC\n",
    "\n",
    "model.compile(\n",
    "    optimizer=Adam(learning_rate=0.0001),\n",
    "    loss='categorical_crossentropy',\n",
    "    metrics=[\n",
    "        'accuracy',\n",
    "        Precision(name='precision'),\n",
    "        Recall(name='recall'),\n",
    "        AUC(name='auc', multi_label=True)\n",
    "    ]\n",
    ")\n"
   ]
  },
  {
   "cell_type": "code",
   "execution_count": 25,
   "metadata": {},
   "outputs": [],
   "source": [
    "from sklearn.model_selection import train_test_split"
   ]
  },
  {
   "cell_type": "code",
   "execution_count": 26,
   "metadata": {},
   "outputs": [],
   "source": [
    "# Set parameters\n",
    "batch_size = 64\n",
    "epochs = 50\n",
    "\n",
    "# Split data into training and validation sets\n",
    "x_train, x_val, y_train, y_val = train_test_split(x, y, test_size=0.2, random_state=42)"
   ]
  },
  {
   "cell_type": "code",
   "execution_count": 27,
   "metadata": {},
   "outputs": [],
   "source": [
    "\n",
    "from tensorflow.keras.utils import to_categorical\n",
    "\n",
    "y_train_cat = to_categorical(y_train, num_classes=7)\n",
    "y_val_cat = to_categorical(y_val, num_classes=7)"
   ]
  },
  {
   "cell_type": "code",
   "execution_count": 28,
   "metadata": {},
   "outputs": [
    {
     "name": "stdout",
     "output_type": "stream",
     "text": [
      "Epoch 1/50\n",
      "449/449 [==============================] - 25s 50ms/step - loss: 2.2338 - accuracy: 0.2103 - precision: 0.2261 - recall: 0.0812 - auc: 0.5394 - val_loss: 1.9932 - val_accuracy: 0.2547 - val_precision: 0.1923 - val_recall: 6.9657e-04 - val_auc: 0.5880\n",
      "Epoch 2/50\n",
      "449/449 [==============================] - 21s 47ms/step - loss: 2.0646 - accuracy: 0.2217 - precision: 0.2526 - recall: 0.0660 - auc: 0.5537 - val_loss: 1.7696 - val_accuracy: 0.2795 - val_precision: 0.4708 - val_recall: 0.0426 - val_auc: 0.6323\n",
      "Epoch 3/50\n",
      "449/449 [==============================] - 21s 47ms/step - loss: 1.9847 - accuracy: 0.2345 - precision: 0.2782 - recall: 0.0573 - auc: 0.5623 - val_loss: 1.7547 - val_accuracy: 0.3125 - val_precision: 0.6210 - val_recall: 0.0189 - val_auc: 0.6438\n",
      "Epoch 4/50\n",
      "449/449 [==============================] - 21s 47ms/step - loss: 1.9326 - accuracy: 0.2399 - precision: 0.3056 - recall: 0.0524 - auc: 0.5744 - val_loss: 1.6977 - val_accuracy: 0.3128 - val_precision: 0.6101 - val_recall: 0.0536 - val_auc: 0.6615\n",
      "Epoch 5/50\n",
      "449/449 [==============================] - 21s 47ms/step - loss: 1.8776 - accuracy: 0.2596 - precision: 0.3350 - recall: 0.0524 - auc: 0.5890 - val_loss: 1.6759 - val_accuracy: 0.3249 - val_precision: 0.5792 - val_recall: 0.0984 - val_auc: 0.6940\n",
      "Epoch 6/50\n",
      "449/449 [==============================] - 21s 47ms/step - loss: 1.8407 - accuracy: 0.2678 - precision: 0.3715 - recall: 0.0530 - auc: 0.6013 - val_loss: 1.6469 - val_accuracy: 0.3383 - val_precision: 0.5812 - val_recall: 0.1197 - val_auc: 0.6993\n",
      "Epoch 7/50\n",
      "449/449 [==============================] - 21s 47ms/step - loss: 1.8036 - accuracy: 0.2830 - precision: 0.4145 - recall: 0.0588 - auc: 0.6140 - val_loss: 1.6866 - val_accuracy: 0.3406 - val_precision: 0.5143 - val_recall: 0.1808 - val_auc: 0.7195\n",
      "Epoch 8/50\n",
      "449/449 [==============================] - 23s 52ms/step - loss: 1.7797 - accuracy: 0.2924 - precision: 0.4478 - recall: 0.0628 - auc: 0.6243 - val_loss: 1.5727 - val_accuracy: 0.3883 - val_precision: 0.6421 - val_recall: 0.1542 - val_auc: 0.7304\n",
      "Epoch 9/50\n",
      "449/449 [==============================] - 23s 51ms/step - loss: 1.7522 - accuracy: 0.3043 - precision: 0.4877 - recall: 0.0706 - auc: 0.6370 - val_loss: 1.6084 - val_accuracy: 0.3653 - val_precision: 0.5581 - val_recall: 0.2127 - val_auc: 0.7375\n",
      "Epoch 10/50\n",
      "449/449 [==============================] - 22s 50ms/step - loss: 1.7258 - accuracy: 0.3144 - precision: 0.5338 - recall: 0.0799 - auc: 0.6475 - val_loss: 1.6661 - val_accuracy: 0.3592 - val_precision: 0.4882 - val_recall: 0.2137 - val_auc: 0.7393\n",
      "Epoch 11/50\n",
      "449/449 [==============================] - 21s 47ms/step - loss: 1.7082 - accuracy: 0.3220 - precision: 0.5555 - recall: 0.0834 - auc: 0.6542 - val_loss: 1.5464 - val_accuracy: 0.4055 - val_precision: 0.6445 - val_recall: 0.1768 - val_auc: 0.7444\n",
      "Epoch 12/50\n",
      "449/449 [==============================] - 21s 47ms/step - loss: 1.6733 - accuracy: 0.3411 - precision: 0.5818 - recall: 0.0923 - auc: 0.6685 - val_loss: 1.6434 - val_accuracy: 0.3807 - val_precision: 0.4888 - val_recall: 0.2434 - val_auc: 0.7564\n",
      "Epoch 13/50\n",
      "449/449 [==============================] - 21s 47ms/step - loss: 1.6543 - accuracy: 0.3477 - precision: 0.6010 - recall: 0.1043 - auc: 0.6771 - val_loss: 1.6562 - val_accuracy: 0.3820 - val_precision: 0.4760 - val_recall: 0.2694 - val_auc: 0.7607\n",
      "Epoch 14/50\n",
      "449/449 [==============================] - 21s 47ms/step - loss: 1.6263 - accuracy: 0.3602 - precision: 0.6136 - recall: 0.1122 - auc: 0.6906 - val_loss: 1.4878 - val_accuracy: 0.4355 - val_precision: 0.6145 - val_recall: 0.2807 - val_auc: 0.7816\n",
      "Epoch 15/50\n",
      "449/449 [==============================] - 21s 47ms/step - loss: 1.6010 - accuracy: 0.3743 - precision: 0.6276 - recall: 0.1245 - auc: 0.7061 - val_loss: 1.4068 - val_accuracy: 0.4699 - val_precision: 0.6627 - val_recall: 0.2732 - val_auc: 0.7938\n",
      "Epoch 16/50\n",
      "449/449 [==============================] - 21s 47ms/step - loss: 1.5813 - accuracy: 0.3827 - precision: 0.6503 - recall: 0.1330 - auc: 0.7098 - val_loss: 1.3984 - val_accuracy: 0.4670 - val_precision: 0.6515 - val_recall: 0.2855 - val_auc: 0.8014\n",
      "Epoch 17/50\n",
      "449/449 [==============================] - 21s 46ms/step - loss: 1.5507 - accuracy: 0.3961 - precision: 0.6604 - recall: 0.1470 - auc: 0.7260 - val_loss: 1.3314 - val_accuracy: 0.4948 - val_precision: 0.7103 - val_recall: 0.2913 - val_auc: 0.8137\n",
      "Epoch 18/50\n",
      "449/449 [==============================] - 21s 46ms/step - loss: 1.5358 - accuracy: 0.4040 - precision: 0.6670 - recall: 0.1557 - auc: 0.7321 - val_loss: 1.3306 - val_accuracy: 0.5015 - val_precision: 0.6906 - val_recall: 0.3137 - val_auc: 0.8098\n",
      "Epoch 19/50\n",
      "449/449 [==============================] - 22s 49ms/step - loss: 1.5120 - accuracy: 0.4173 - precision: 0.6799 - recall: 0.1645 - auc: 0.7429 - val_loss: 1.3159 - val_accuracy: 0.5081 - val_precision: 0.6789 - val_recall: 0.3390 - val_auc: 0.8194\n",
      "Epoch 20/50\n",
      "449/449 [==============================] - 23s 51ms/step - loss: 1.5043 - accuracy: 0.4172 - precision: 0.6841 - recall: 0.1671 - auc: 0.7451 - val_loss: 1.2891 - val_accuracy: 0.5109 - val_precision: 0.7089 - val_recall: 0.3243 - val_auc: 0.8234\n",
      "Epoch 21/50\n",
      "449/449 [==============================] - 24s 53ms/step - loss: 1.4810 - accuracy: 0.4300 - precision: 0.6933 - recall: 0.1788 - auc: 0.7532 - val_loss: 1.3005 - val_accuracy: 0.5060 - val_precision: 0.6881 - val_recall: 0.3359 - val_auc: 0.8301\n",
      "Epoch 22/50\n",
      "449/449 [==============================] - 23s 50ms/step - loss: 1.4746 - accuracy: 0.4261 - precision: 0.6840 - recall: 0.1786 - auc: 0.7570 - val_loss: 1.3424 - val_accuracy: 0.4996 - val_precision: 0.6340 - val_recall: 0.3734 - val_auc: 0.8269\n",
      "Epoch 23/50\n",
      "449/449 [==============================] - 22s 49ms/step - loss: 1.4580 - accuracy: 0.4392 - precision: 0.7040 - recall: 0.1853 - auc: 0.7621 - val_loss: 1.2653 - val_accuracy: 0.5269 - val_precision: 0.6810 - val_recall: 0.3706 - val_auc: 0.8356\n",
      "Epoch 24/50\n",
      "449/449 [==============================] - 21s 46ms/step - loss: 1.4468 - accuracy: 0.4429 - precision: 0.6955 - recall: 0.1916 - auc: 0.7693 - val_loss: 1.3219 - val_accuracy: 0.5050 - val_precision: 0.6377 - val_recall: 0.3703 - val_auc: 0.8388\n",
      "Epoch 25/50\n",
      "449/449 [==============================] - 21s 46ms/step - loss: 1.4320 - accuracy: 0.4499 - precision: 0.7122 - recall: 0.2016 - auc: 0.7744 - val_loss: 1.2849 - val_accuracy: 0.5131 - val_precision: 0.6988 - val_recall: 0.3455 - val_auc: 0.8386\n",
      "Epoch 26/50\n",
      "449/449 [==============================] - 21s 47ms/step - loss: 1.4221 - accuracy: 0.4544 - precision: 0.7035 - recall: 0.2016 - auc: 0.7784 - val_loss: 1.2716 - val_accuracy: 0.5192 - val_precision: 0.6711 - val_recall: 0.3826 - val_auc: 0.8448\n",
      "Epoch 27/50\n",
      "449/449 [==============================] - 21s 46ms/step - loss: 1.4108 - accuracy: 0.4599 - precision: 0.7139 - recall: 0.2115 - auc: 0.7828 - val_loss: 1.2496 - val_accuracy: 0.5286 - val_precision: 0.6855 - val_recall: 0.3741 - val_auc: 0.8451\n",
      "Epoch 28/50\n",
      "449/449 [==============================] - 21s 46ms/step - loss: 1.4018 - accuracy: 0.4633 - precision: 0.7134 - recall: 0.2169 - auc: 0.7849 - val_loss: 1.2041 - val_accuracy: 0.5476 - val_precision: 0.7279 - val_recall: 0.3638 - val_auc: 0.8504\n",
      "Epoch 29/50\n",
      "449/449 [==============================] - 21s 47ms/step - loss: 1.3966 - accuracy: 0.4637 - precision: 0.7093 - recall: 0.2224 - auc: 0.7856 - val_loss: 1.2039 - val_accuracy: 0.5411 - val_precision: 0.7081 - val_recall: 0.3809 - val_auc: 0.8500\n",
      "Epoch 30/50\n",
      "449/449 [==============================] - 21s 47ms/step - loss: 1.3843 - accuracy: 0.4696 - precision: 0.7104 - recall: 0.2247 - auc: 0.7916 - val_loss: 1.2215 - val_accuracy: 0.5359 - val_precision: 0.7064 - val_recall: 0.3734 - val_auc: 0.8465\n",
      "Epoch 31/50\n",
      "449/449 [==============================] - 17s 37ms/step - loss: 1.3783 - accuracy: 0.4749 - precision: 0.7183 - recall: 0.2285 - auc: 0.7939 - val_loss: 1.2605 - val_accuracy: 0.5223 - val_precision: 0.6626 - val_recall: 0.3909 - val_auc: 0.8502\n",
      "Epoch 32/50\n",
      "449/449 [==============================] - 16s 35ms/step - loss: 1.3722 - accuracy: 0.4750 - precision: 0.7189 - recall: 0.2346 - auc: 0.7957 - val_loss: 1.1727 - val_accuracy: 0.5515 - val_precision: 0.7364 - val_recall: 0.3670 - val_auc: 0.8584\n",
      "Epoch 33/50\n",
      "449/449 [==============================] - 16s 35ms/step - loss: 1.3687 - accuracy: 0.4777 - precision: 0.7206 - recall: 0.2388 - auc: 0.7981 - val_loss: 1.1793 - val_accuracy: 0.5508 - val_precision: 0.7045 - val_recall: 0.3962 - val_auc: 0.8600\n",
      "Epoch 34/50\n",
      "449/449 [==============================] - 16s 35ms/step - loss: 1.3576 - accuracy: 0.4800 - precision: 0.7232 - recall: 0.2422 - auc: 0.7998 - val_loss: 1.1765 - val_accuracy: 0.5522 - val_precision: 0.7216 - val_recall: 0.3958 - val_auc: 0.8604\n",
      "Epoch 35/50\n",
      "449/449 [==============================] - 15s 34ms/step - loss: 1.3538 - accuracy: 0.4790 - precision: 0.7219 - recall: 0.2426 - auc: 0.8017 - val_loss: 1.1775 - val_accuracy: 0.5525 - val_precision: 0.7035 - val_recall: 0.4065 - val_auc: 0.8610\n",
      "Epoch 36/50\n",
      "449/449 [==============================] - 15s 34ms/step - loss: 1.3469 - accuracy: 0.4853 - precision: 0.7248 - recall: 0.2485 - auc: 0.8033 - val_loss: 1.1727 - val_accuracy: 0.5529 - val_precision: 0.7162 - val_recall: 0.3874 - val_auc: 0.8620\n",
      "Epoch 37/50\n",
      "449/449 [==============================] - 16s 35ms/step - loss: 1.3467 - accuracy: 0.4829 - precision: 0.7192 - recall: 0.2508 - auc: 0.8053 - val_loss: 1.1635 - val_accuracy: 0.5503 - val_precision: 0.7095 - val_recall: 0.4018 - val_auc: 0.8640\n",
      "Epoch 38/50\n",
      "449/449 [==============================] - 16s 35ms/step - loss: 1.3342 - accuracy: 0.4913 - precision: 0.7300 - recall: 0.2564 - auc: 0.8084 - val_loss: 1.1363 - val_accuracy: 0.5660 - val_precision: 0.7319 - val_recall: 0.4074 - val_auc: 0.8676\n",
      "Epoch 39/50\n",
      "449/449 [==============================] - 15s 34ms/step - loss: 1.3216 - accuracy: 0.4983 - precision: 0.7295 - recall: 0.2616 - auc: 0.8129 - val_loss: 1.1969 - val_accuracy: 0.5451 - val_precision: 0.6878 - val_recall: 0.4104 - val_auc: 0.8630\n",
      "Epoch 40/50\n",
      "449/449 [==============================] - 15s 34ms/step - loss: 1.3160 - accuracy: 0.4963 - precision: 0.7281 - recall: 0.2646 - auc: 0.8144 - val_loss: 1.1469 - val_accuracy: 0.5599 - val_precision: 0.7082 - val_recall: 0.4078 - val_auc: 0.8673\n",
      "Epoch 41/50\n",
      "449/449 [==============================] - 15s 34ms/step - loss: 1.3209 - accuracy: 0.4954 - precision: 0.7244 - recall: 0.2664 - auc: 0.8135 - val_loss: 1.1553 - val_accuracy: 0.5626 - val_precision: 0.7163 - val_recall: 0.4125 - val_auc: 0.8697\n",
      "Epoch 42/50\n",
      "449/449 [==============================] - 15s 34ms/step - loss: 1.3136 - accuracy: 0.4950 - precision: 0.7249 - recall: 0.2680 - auc: 0.8166 - val_loss: 1.1347 - val_accuracy: 0.5692 - val_precision: 0.7170 - val_recall: 0.4211 - val_auc: 0.8692\n",
      "Epoch 43/50\n",
      "449/449 [==============================] - 15s 34ms/step - loss: 1.3143 - accuracy: 0.4996 - precision: 0.7246 - recall: 0.2720 - auc: 0.8152 - val_loss: 1.1109 - val_accuracy: 0.5782 - val_precision: 0.7371 - val_recall: 0.4214 - val_auc: 0.8723\n",
      "Epoch 44/50\n",
      "449/449 [==============================] - 16s 35ms/step - loss: 1.3029 - accuracy: 0.5014 - precision: 0.7266 - recall: 0.2750 - auc: 0.8185 - val_loss: 1.1740 - val_accuracy: 0.5602 - val_precision: 0.6844 - val_recall: 0.4274 - val_auc: 0.8695\n",
      "Epoch 45/50\n",
      "449/449 [==============================] - 16s 35ms/step - loss: 1.2978 - accuracy: 0.5026 - precision: 0.7232 - recall: 0.2742 - auc: 0.8223 - val_loss: 1.1566 - val_accuracy: 0.5602 - val_precision: 0.7037 - val_recall: 0.4248 - val_auc: 0.8677\n",
      "Epoch 46/50\n",
      "449/449 [==============================] - 16s 35ms/step - loss: 1.2931 - accuracy: 0.5083 - precision: 0.7265 - recall: 0.2817 - auc: 0.8214 - val_loss: 1.1516 - val_accuracy: 0.5600 - val_precision: 0.7138 - val_recall: 0.4065 - val_auc: 0.8717\n",
      "Epoch 47/50\n",
      "449/449 [==============================] - 15s 34ms/step - loss: 1.2844 - accuracy: 0.5114 - precision: 0.7348 - recall: 0.2859 - auc: 0.8227 - val_loss: 1.1055 - val_accuracy: 0.5807 - val_precision: 0.7259 - val_recall: 0.4283 - val_auc: 0.8737\n",
      "Epoch 48/50\n",
      "449/449 [==============================] - 15s 34ms/step - loss: 1.2834 - accuracy: 0.5101 - precision: 0.7319 - recall: 0.2894 - auc: 0.8235 - val_loss: 1.1209 - val_accuracy: 0.5697 - val_precision: 0.7189 - val_recall: 0.4280 - val_auc: 0.8751\n",
      "Epoch 49/50\n",
      "449/449 [==============================] - 16s 35ms/step - loss: 1.2794 - accuracy: 0.5103 - precision: 0.7322 - recall: 0.2900 - auc: 0.8270 - val_loss: 1.1731 - val_accuracy: 0.5556 - val_precision: 0.6822 - val_recall: 0.4345 - val_auc: 0.8698\n",
      "Epoch 50/50\n",
      "449/449 [==============================] - 16s 35ms/step - loss: 1.2717 - accuracy: 0.5146 - precision: 0.7343 - recall: 0.2919 - auc: 0.8286 - val_loss: 1.1934 - val_accuracy: 0.5568 - val_precision: 0.6744 - val_recall: 0.4468 - val_auc: 0.8691\n"
     ]
    }
   ],
   "source": [
    "# Create training data generator\n",
    "train_generator = datagen.flow(x_train, y_train_cat, batch_size=batch_size)\n",
    "\n",
    "# Train model\n",
    "history = model.fit(train_generator, epochs=epochs, validation_data=(x_val, y_val_cat))"
   ]
  },
  {
   "cell_type": "code",
   "execution_count": 42,
   "metadata": {},
   "outputs": [
    {
     "name": "stdout",
     "output_type": "stream",
     "text": [
      "225/225 [==============================] - 1s 6ms/step\n",
      "Classification Report:\n",
      "               precision    recall  f1-score   support\n",
      "\n",
      "           0       0.58      0.40      0.47       985\n",
      "           1       0.70      0.07      0.13       102\n",
      "           2       0.68      0.11      0.19      1043\n",
      "           3       0.66      0.88      0.76      1765\n",
      "           4       0.49      0.31      0.38      1210\n",
      "           5       0.69      0.73      0.71       795\n",
      "           6       0.41      0.76      0.53      1278\n",
      "\n",
      "    accuracy                           0.56      7178\n",
      "   macro avg       0.60      0.47      0.45      7178\n",
      "weighted avg       0.58      0.56      0.52      7178\n",
      "\n"
     ]
    },
    {
     "data": {
      "image/png": "[encoded data removed]",
      "text/plain": [
       "<Figure size 800x600 with 2 Axes>"
      ]
     },
     "metadata": {},
     "output_type": "display_data"
    }
   ],
   "source": [
    "from sklearn.metrics import classification_report, confusion_matrix\n",
    "import matplotlib.pyplot as plt\n",
    "import numpy as np\n",
    "\n",
    "# Predictions\n",
    "y_pred = np.argmax(model.predict(x_val), axis=1)\n",
    "\n",
    "# Convert one-hot to class indices\n",
    "y_true = y_val\n",
    "\n",
    "# Classification report\n",
    "report = classification_report(y_true, y_pred)\n",
    "print(\"Classification Report:\\n\", report)\n",
    "\n",
    "# Confusion matrix\n",
    "cm = confusion_matrix(y_true, y_pred)\n",
    "plt.figure(figsize=(8, 6))\n",
    "plt.imshow(cm, cmap='coolwarm')\n",
    "plt.title('Confusion Matrix')\n",
    "plt.xlabel('Predicted Label')\n",
    "plt.ylabel('True Label')\n",
    "plt.colorbar()\n",
    "plt.show()\n"
   ]
  },
  {
   "cell_type": "code",
   "execution_count": null,
   "metadata": {},
   "outputs": [],
   "source": []
  }
 ],
 "metadata": {
  "kernelspec": {
   "display_name": "cap",
   "language": "python",
   "name": "python3"
  },
  "language_info": {
   "codemirror_mode": {
    "name": "ipython",
    "version": 3
   },
   "file_extension": ".py",
   "mimetype": "text/x-python",
   "name": "python",
   "nbconvert_exporter": "python",
   "pygments_lexer": "ipython3",
   "version": "3.9.21"
  }
 },
 "nbformat": 4,
 "nbformat_minor": 2
}
